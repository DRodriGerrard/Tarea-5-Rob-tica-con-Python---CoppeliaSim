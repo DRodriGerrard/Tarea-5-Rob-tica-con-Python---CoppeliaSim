{
 "cells": [
  {
   "cell_type": "markdown",
   "metadata": {},
   "source": [
    "<h2> Tarea 5 - CoppeliaSim con Python</h2>\n",
    "\n",
    "<br>Requiere que los archivos 'sim.py', 'simConst.py', 'remoteapi.dll' estén alojados en la misma carpeta que este cuaderno de Jupyter\n",
    "<br><h4> Instrucciones</h4>\n",
    "<br>1. Abra la escena robotPlanar.ttt\n",
    "<br>2. Seleccionando la base del robot desde la jerarquía de escena, presione botón derecho del mouse y agregue un archivo de script mediante Add -> script -> simulation script -> Non threaded -> Lua. Aparecerá el documento en la jerarquía de la base.\n",
    "<br>3. En el script es posible incluir código de programación, escritos en lenguaje LUA. Para nuestro caso, todo el código que requeriremos es habilitar el API remoto, asignando un puerto de comunicación. En la función <b>sysCall_init()</b> agregue la siguiente línea:\n",
    "<br> \n",
    "<font face = \"Monospace\"> <pre> simRemoteApi.start(19999)</font>\n",
    "<br> Proceda a continuación con las actividades:"
   ]
  },
  {
   "cell_type": "code",
   "execution_count": 1,
   "metadata": {},
   "outputs": [],
   "source": [
    "import sim\n",
    "import numpy as np\n",
    "import time"
   ]
  },
  {
   "cell_type": "markdown",
   "metadata": {},
   "source": [
    "### 1. Establecer la conexión\n",
    "Utilizaremos las funciones del API Remoto de VREP.\n",
    "<br> Para más detalles refiérase a la documentación de la librería:\n",
    "<br> http://www.coppeliarobotics.com/helpFiles/en/remoteApiFunctionsPython.htm"
   ]
  },
  {
   "cell_type": "code",
   "execution_count": 2,
   "metadata": {},
   "outputs": [],
   "source": [
    "def connect(port):\n",
    "    sim.simxFinish(-1)\n",
    "    clientID=sim.simxStart('127.0.0.1',port,True,True,2000,5)\n",
    "    if clientID == 0: print(\"conectado a\", port)\n",
    "    else: print(\"no se pudo conectar\")\n",
    "    return clientID\n"
   ]
  },
  {
   "cell_type": "markdown",
   "metadata": {},
   "source": [
    "<h3> 2. Obtener los manejadores (handlers)</h3>\n",
    "Un manejador (handler) es un número identificador que asigna VREP para cada uno de los elementos de la escena. A través de su manejador se puede hacer referencia a un elemento en específico de la escena."
   ]
  },
  {
   "cell_type": "code",
   "execution_count": 3,
   "metadata": {},
   "outputs": [],
   "source": [
    "def get_joint_handles(clientID):\n",
    "    ret1, link1 = sim.simxGetObjectHandle(clientID, 'link1', sim.simx_opmode_blocking)\n",
    "    ret2, link2 = sim.simxGetObjectHandle(clientID, 'link2', sim.simx_opmode_blocking)\n",
    "    if ret1 == 0 and ret2 == 0:\n",
    "        print(f\"Handle Link1: {link1}, Handle Link2: {link2}\")\n",
    "    else:\n",
    "        print(\"Error al obtener los manejadores de los joints.\")\n",
    "    return link1, link2"
   ]
  },
  {
   "cell_type": "markdown",
   "metadata": {},
   "source": [
    "<h3> 3. ¿Cuál es la posición de las articulaciones?</h3>\n",
    "Utilizando los manejadores, podemos obtener información de los elementos."
   ]
  },
  {
   "cell_type": "code",
   "execution_count": 4,
   "metadata": {},
   "outputs": [],
   "source": [
    "def control(clientID, link1, link2):\n",
    "    joints1 = [90, 0, -90, 0]\n",
    "    joints2 = [45, 0, -45, 0]\n",
    "    print(\"Inicia simulación\")\n",
    "    for q1, q2 in zip(joints1, joints2):\n",
    "        sim.simxSetJointTargetPosition(clientID, link1, np.radians(q1), sim.simx_opmode_oneshot)\n",
    "        time.sleep(0.3)\n",
    "        sim.simxSetJointTargetPosition(clientID, link2, np.radians(q2), sim.simx_opmode_oneshot)\n",
    "        time.sleep(0.5)"
   ]
  },
  {
   "cell_type": "markdown",
   "metadata": {},
   "source": [
    "<h3> 4. ... y movemos el robot</h3>\n",
    "Utilizando los manejadores, podemos enviar parámetros a los elementos."
   ]
  },
  {
   "cell_type": "code",
   "execution_count": 7,
   "metadata": {},
   "outputs": [
    {
     "name": "stdout",
     "output_type": "stream",
     "text": [
      "conectado a 19999\n",
      "Handle Link1: 16, Handle Link2: 18\n",
      "Inicia simulación\n"
     ]
    }
   ],
   "source": [
    "clientID = connect(19999)\n",
    "if clientID != -1:\n",
    "    link1, link2 = get_joint_handles(clientID)\n",
    "    control(clientID, link1, link2)\n",
    "else:\n",
    "    print(\"No se pudo establecer la conexión con CoppeliaSim.\")"
   ]
  }
 ],
 "metadata": {
  "kernelspec": {
   "display_name": "base",
   "language": "python",
   "name": "python3"
  },
  "language_info": {
   "codemirror_mode": {
    "name": "ipython",
    "version": 3
   },
   "file_extension": ".py",
   "mimetype": "text/x-python",
   "name": "python",
   "nbconvert_exporter": "python",
   "pygments_lexer": "ipython3",
   "version": "3.12.7"
  }
 },
 "nbformat": 4,
 "nbformat_minor": 2
}
